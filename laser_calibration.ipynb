{
 "cells": [
  {
   "cell_type": "code",
   "execution_count": 1,
   "metadata": {},
   "outputs": [],
   "source": [
    "# -*- coding: utf-8 -*-\n",
    "# Author : Andy Liu\n",
    "# Created: 2019-07-27\n",
    "\n",
    "import os\n",
    "import sys\n",
    "import time\n",
    "import numpy as np\n",
    "import cv2"
   ]
  },
  {
   "cell_type": "code",
   "execution_count": 2,
   "metadata": {},
   "outputs": [],
   "source": [
    "# Object\n",
    "objPoints = np.float32([[-157.5, 55],\n",
    "                        [-292.2, 26.4],\n",
    "                        [-89, -209.2],\n",
    "                        [-214, -169.6]])\n",
    "\n",
    "laderPoints = np.float32([[76.49, -177],\n",
    "                         [204.2, -238.26],\n",
    "                         [191.392, 91.2485],\n",
    "                         [266.94, -23.3]])"
   ]
  },
  {
   "cell_type": "code",
   "execution_count": 3,
   "metadata": {},
   "outputs": [
    {
     "data": {
      "text/plain": [
       "array([[-7.53303298e-01,  5.75473987e-01,  3.23919259e+00],\n",
       "       [-5.74818940e-01, -7.32017654e-01, -3.10392703e+01],\n",
       "       [-4.58151543e-05,  2.54035007e-05,  1.00000000e+00]])"
      ]
     },
     "execution_count": 3,
     "metadata": {},
     "output_type": "execute_result"
    }
   ],
   "source": [
    "# Lader Coordinate => Car Coordinate\n",
    "M = cv2.getPerspectiveTransform(laderPoints, objPoints)\n",
    "M"
   ]
  },
  {
   "cell_type": "code",
   "execution_count": 6,
   "metadata": {},
   "outputs": [],
   "source": [
    "# Object\n",
    "objPoints1 = np.float32([[-188.4,-49],\n",
    "                        [-93.1,-104.9],\n",
    "                        [-42.1,-184.1],\n",
    "                        [-136.5,-316.9]])\n",
    "\n",
    "laderPoints1 = np.float32([[170.043, -109.459],\n",
    "                         [129.03,-0.3828],\n",
    "                         [137.702,101.968],\n",
    "                         [290.967,146.023]])"
   ]
  },
  {
   "cell_type": "code",
   "execution_count": 7,
   "metadata": {},
   "outputs": [
    {
     "data": {
      "text/plain": [
       "array([[-7.10386212e-01,  5.36896370e-01,  2.42481754e+00],\n",
       "       [-5.43929295e-01, -7.06066379e-01, -3.08652721e+01],\n",
       "       [-3.04307103e-04,  7.33028628e-05,  1.00000000e+00]])"
      ]
     },
     "execution_count": 7,
     "metadata": {},
     "output_type": "execute_result"
    }
   ],
   "source": [
    "# Lader Coordinate => Car Coordinate\n",
    "M1 = cv2.getPerspectiveTransform(laderPoints1, objPoints1)\n",
    "M1"
   ]
  },
  {
   "cell_type": "markdown",
   "metadata": {},
   "source": []
  },
  {
   "cell_type": "code",
   "execution_count": null,
   "metadata": {},
   "outputs": [],
   "source": []
  }
 ],
 "metadata": {
  "kernelspec": {
   "display_name": "Python 3",
   "language": "python",
   "name": "python3"
  },
  "language_info": {
   "codemirror_mode": {
    "name": "ipython",
    "version": 3
   },
   "file_extension": ".py",
   "mimetype": "text/x-python",
   "name": "python",
   "nbconvert_exporter": "python",
   "pygments_lexer": "ipython3",
   "version": "3.5.6"
  }
 },
 "nbformat": 4,
 "nbformat_minor": 2
}
